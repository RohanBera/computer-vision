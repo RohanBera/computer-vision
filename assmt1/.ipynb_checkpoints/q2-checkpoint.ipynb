{
 "cells": [
  {
   "cell_type": "markdown",
   "id": "b510a6fc",
   "metadata": {},
   "source": [
    "## Question 2.\n",
    "\n",
    "Write a MATLAB/Python script to find the real world dimensions (e.g. diameter of a ball, side length of a cube) of an object using perspective projection equations. Validate using an experiment where you image an object using your camera from a specific distance (choose any distance but ensure you are able to measure it accurately) between the object and camera.\n",
    "\n",
    "\n",
    "### Solution\n",
    "\n",
    "**NOTE:** <br />\n",
    "please run q1.ipynb before running q2.ipynb \n",
    "q1.ipynb saves all the important camera information \n",
    "(camera, rotational, and translational matrices) which \n",
    "are mandatory for q2.ipynb to work!\n"
   ]
  },
  {
   "cell_type": "code",
   "execution_count": 1,
   "id": "d877ac18",
   "metadata": {},
   "outputs": [],
   "source": [
    "import numpy as np\n",
    "import cv2 as cv\n",
    "from scipy.spatial.transform import Rotation\n",
    "from math import cos, sin, radians"
   ]
  },
  {
   "cell_type": "code",
   "execution_count": 35,
   "id": "4eed8445",
   "metadata": {},
   "outputs": [
    {
     "ename": "TypeError",
     "evalue": "list.append() takes exactly one argument (10 given)",
     "output_type": "error",
     "traceback": [
      "\u001b[0;31m---------------------------------------------------------------------------\u001b[0m",
      "\u001b[0;31mTypeError\u001b[0m                                 Traceback (most recent call last)",
      "\u001b[0;32m/tmp/ipykernel_221803/3120362205.py\u001b[0m in \u001b[0;36m<module>\u001b[0;34m\u001b[0m\n\u001b[1;32m      3\u001b[0m \u001b[0;32mwith\u001b[0m \u001b[0mopen\u001b[0m\u001b[0;34m(\u001b[0m\u001b[0;34m'images/left/rotat_vector.txt'\u001b[0m\u001b[0;34m,\u001b[0m \u001b[0;34m'r'\u001b[0m\u001b[0;34m)\u001b[0m \u001b[0;32mas\u001b[0m \u001b[0mf\u001b[0m\u001b[0;34m:\u001b[0m\u001b[0;34m\u001b[0m\u001b[0;34m\u001b[0m\u001b[0m\n\u001b[1;32m      4\u001b[0m \u001b[0;31m#     for line in f :\u001b[0m\u001b[0;34m\u001b[0m\u001b[0;34m\u001b[0m\u001b[0m\n\u001b[0;32m----> 5\u001b[0;31m     \u001b[0mrot_v\u001b[0m\u001b[0;34m.\u001b[0m\u001b[0mappend\u001b[0m\u001b[0;34m(\u001b[0m\u001b[0;34m*\u001b[0m\u001b[0;34m[\u001b[0m\u001b[0;34m[\u001b[0m\u001b[0;34m[\u001b[0m\u001b[0mfloat\u001b[0m\u001b[0;34m(\u001b[0m\u001b[0mnum\u001b[0m\u001b[0;34m)\u001b[0m\u001b[0;34m]\u001b[0m \u001b[0;32mfor\u001b[0m \u001b[0mnum\u001b[0m \u001b[0;32min\u001b[0m \u001b[0mline\u001b[0m\u001b[0;34m.\u001b[0m\u001b[0msplit\u001b[0m\u001b[0;34m(\u001b[0m\u001b[0;34m' '\u001b[0m\u001b[0;34m)\u001b[0m\u001b[0;34m]\u001b[0m \u001b[0;32mfor\u001b[0m \u001b[0mline\u001b[0m \u001b[0;32min\u001b[0m \u001b[0mf\u001b[0m\u001b[0;34m]\u001b[0m\u001b[0;34m)\u001b[0m\u001b[0;34m\u001b[0m\u001b[0;34m\u001b[0m\u001b[0m\n\u001b[0m",
      "\u001b[0;31mTypeError\u001b[0m: list.append() takes exactly one argument (10 given)"
     ]
    }
   ],
   "source": [
    "rot_v = []\n",
    "\n",
    "with open('images/left/rotat_vector.txt', 'r') as f:\n",
    "    for line in f :\n",
    "        rot_v.append([[float(num)] for num in line.split(' ')]\n"
   ]
  },
  {
   "cell_type": "code",
   "execution_count": 34,
   "id": "a73d2262",
   "metadata": {},
   "outputs": [
    {
     "data": {
      "text/plain": [
       "[[[[0.19758], [-0.00655], [0.0063]],\n",
       "  [[0.20569], [0.03023], [0.00369]],\n",
       "  [[0.10432], [0.03595], [0.02063]],\n",
       "  [[0.1286], [-0.00654], [0.01703]],\n",
       "  [[0.10085], [0.01447], [0.01957]],\n",
       "  [[0.11166], [0.0606], [0.02276]],\n",
       "  [[0.14803], [0.07052], [0.0118]],\n",
       "  [[0.15267], [-0.01626], [0.01514]],\n",
       "  [[0.1488], [0.08836], [0.00804]],\n",
       "  [[0.17478], [-0.00165], [0.0112]]]]"
      ]
     },
     "execution_count": 34,
     "metadata": {},
     "output_type": "execute_result"
    }
   ],
   "source": [
    "rot_v"
   ]
  },
  {
   "cell_type": "code",
   "execution_count": 8,
   "id": "e2b4f320",
   "metadata": {},
   "outputs": [
    {
     "name": "stdout",
     "output_type": "stream",
     "text": [
      "Rotation vector:\n",
      "<scipy.spatial.transform._rotation.Rotation object at 0x7fa86dd14a80>\n",
      "Translation vector:\n",
      "[[ 0.08 -0.95 -0.   -0.01  3.01]]\n"
     ]
    }
   ],
   "source": [
    "# reading the rotational vectors\n",
    "\n",
    "with open('images/left/rotat_vector.txt', 'r') as f:\n",
    "    rot_v = [[float(num) for num in line.split(' ')] for line in f]\n",
    "\n",
    "rot_v = np.array(rot_v)\n",
    "    \n",
    "print(\"Rotation vector:\")    \n",
    "print(rot_v)\n",
    "\n",
    "# reading the translation vectors\n",
    "\n",
    "with open('images/left/trans_vector.txt', 'r') as f:\n",
    "    tra_v = [[float(num) for num in line.split(' ')] for line in f]\n",
    "\n",
    "tra_v = np.array(tra_v)\n",
    "\n",
    "print(\"Translation vector:\")    \n",
    "print(tra_v)"
   ]
  },
  {
   "cell_type": "code",
   "execution_count": null,
   "id": "810951bb",
   "metadata": {},
   "outputs": [],
   "source": []
  },
  {
   "cell_type": "code",
   "execution_count": null,
   "id": "338e9877",
   "metadata": {},
   "outputs": [],
   "source": []
  },
  {
   "cell_type": "code",
   "execution_count": null,
   "id": "84379b26",
   "metadata": {},
   "outputs": [],
   "source": []
  },
  {
   "cell_type": "code",
   "execution_count": null,
   "id": "e6e8f82c",
   "metadata": {},
   "outputs": [],
   "source": []
  },
  {
   "cell_type": "code",
   "execution_count": 1,
   "id": "ed892e74",
   "metadata": {},
   "outputs": [
    {
     "ename": "KeyboardInterrupt",
     "evalue": "",
     "output_type": "error",
     "traceback": [
      "\u001b[0;31m---------------------------------------------------------------------------\u001b[0m",
      "\u001b[0;31mKeyboardInterrupt\u001b[0m                         Traceback (most recent call last)",
      "\u001b[0;32m/tmp/ipykernel_41277/3399560219.py\u001b[0m in \u001b[0;36m<module>\u001b[0;34m\u001b[0m\n\u001b[1;32m      1\u001b[0m \u001b[0;32mimport\u001b[0m \u001b[0mnumpy\u001b[0m \u001b[0;32mas\u001b[0m \u001b[0mnp\u001b[0m\u001b[0;34m\u001b[0m\u001b[0;34m\u001b[0m\u001b[0m\n\u001b[0;32m----> 2\u001b[0;31m \u001b[0;32mimport\u001b[0m \u001b[0mcv2\u001b[0m \u001b[0;32mas\u001b[0m \u001b[0mcv\u001b[0m\u001b[0;34m\u001b[0m\u001b[0;34m\u001b[0m\u001b[0m\n\u001b[0m\u001b[1;32m      3\u001b[0m \u001b[0;32mfrom\u001b[0m \u001b[0mscipy\u001b[0m\u001b[0;34m.\u001b[0m\u001b[0mspatial\u001b[0m\u001b[0;34m.\u001b[0m\u001b[0mtransform\u001b[0m \u001b[0;32mimport\u001b[0m \u001b[0mRotation\u001b[0m\u001b[0;34m\u001b[0m\u001b[0;34m\u001b[0m\u001b[0m\n\u001b[1;32m      4\u001b[0m \u001b[0;32mfrom\u001b[0m \u001b[0mmath\u001b[0m \u001b[0;32mimport\u001b[0m \u001b[0mcos\u001b[0m\u001b[0;34m,\u001b[0m \u001b[0msin\u001b[0m\u001b[0;34m,\u001b[0m \u001b[0mradians\u001b[0m\u001b[0;34m\u001b[0m\u001b[0;34m\u001b[0m\u001b[0m\n\u001b[1;32m      5\u001b[0m \u001b[0;32mimport\u001b[0m \u001b[0mparta\u001b[0m\u001b[0;34m\u001b[0m\u001b[0;34m\u001b[0m\u001b[0m\n",
      "\u001b[0;32m~/.local/lib/python3.10/site-packages/cv2/__init__.py\u001b[0m in \u001b[0;36m<module>\u001b[0;34m\u001b[0m\n\u001b[1;32m    178\u001b[0m \u001b[0;34m\u001b[0m\u001b[0m\n\u001b[1;32m    179\u001b[0m \u001b[0;34m\u001b[0m\u001b[0m\n\u001b[0;32m--> 180\u001b[0;31m \u001b[0mbootstrap\u001b[0m\u001b[0;34m(\u001b[0m\u001b[0;34m)\u001b[0m\u001b[0;34m\u001b[0m\u001b[0;34m\u001b[0m\u001b[0m\n\u001b[0m",
      "\u001b[0;32m~/.local/lib/python3.10/site-packages/cv2/__init__.py\u001b[0m in \u001b[0;36mbootstrap\u001b[0;34m()\u001b[0m\n\u001b[1;32m    150\u001b[0m     \u001b[0mpy_module\u001b[0m \u001b[0;34m=\u001b[0m \u001b[0msys\u001b[0m\u001b[0;34m.\u001b[0m\u001b[0mmodules\u001b[0m\u001b[0;34m.\u001b[0m\u001b[0mpop\u001b[0m\u001b[0;34m(\u001b[0m\u001b[0;34m\"cv2\"\u001b[0m\u001b[0;34m)\u001b[0m\u001b[0;34m\u001b[0m\u001b[0;34m\u001b[0m\u001b[0m\n\u001b[1;32m    151\u001b[0m \u001b[0;34m\u001b[0m\u001b[0m\n\u001b[0;32m--> 152\u001b[0;31m     \u001b[0mnative_module\u001b[0m \u001b[0;34m=\u001b[0m \u001b[0mimportlib\u001b[0m\u001b[0;34m.\u001b[0m\u001b[0mimport_module\u001b[0m\u001b[0;34m(\u001b[0m\u001b[0;34m\"cv2\"\u001b[0m\u001b[0;34m)\u001b[0m\u001b[0;34m\u001b[0m\u001b[0;34m\u001b[0m\u001b[0m\n\u001b[0m\u001b[1;32m    153\u001b[0m \u001b[0;34m\u001b[0m\u001b[0m\n\u001b[1;32m    154\u001b[0m     \u001b[0msys\u001b[0m\u001b[0;34m.\u001b[0m\u001b[0mmodules\u001b[0m\u001b[0;34m[\u001b[0m\u001b[0;34m\"cv2\"\u001b[0m\u001b[0;34m]\u001b[0m \u001b[0;34m=\u001b[0m \u001b[0mpy_module\u001b[0m\u001b[0;34m\u001b[0m\u001b[0;34m\u001b[0m\u001b[0m\n",
      "\u001b[0;32m/usr/lib/python3.10/importlib/__init__.py\u001b[0m in \u001b[0;36mimport_module\u001b[0;34m(name, package)\u001b[0m\n\u001b[1;32m    124\u001b[0m                 \u001b[0;32mbreak\u001b[0m\u001b[0;34m\u001b[0m\u001b[0;34m\u001b[0m\u001b[0m\n\u001b[1;32m    125\u001b[0m             \u001b[0mlevel\u001b[0m \u001b[0;34m+=\u001b[0m \u001b[0;36m1\u001b[0m\u001b[0;34m\u001b[0m\u001b[0;34m\u001b[0m\u001b[0m\n\u001b[0;32m--> 126\u001b[0;31m     \u001b[0;32mreturn\u001b[0m \u001b[0m_bootstrap\u001b[0m\u001b[0;34m.\u001b[0m\u001b[0m_gcd_import\u001b[0m\u001b[0;34m(\u001b[0m\u001b[0mname\u001b[0m\u001b[0;34m[\u001b[0m\u001b[0mlevel\u001b[0m\u001b[0;34m:\u001b[0m\u001b[0;34m]\u001b[0m\u001b[0;34m,\u001b[0m \u001b[0mpackage\u001b[0m\u001b[0;34m,\u001b[0m \u001b[0mlevel\u001b[0m\u001b[0;34m)\u001b[0m\u001b[0;34m\u001b[0m\u001b[0;34m\u001b[0m\u001b[0m\n\u001b[0m\u001b[1;32m    127\u001b[0m \u001b[0;34m\u001b[0m\u001b[0m\n\u001b[1;32m    128\u001b[0m \u001b[0;34m\u001b[0m\u001b[0m\n",
      "\u001b[0;31mKeyboardInterrupt\u001b[0m: "
     ]
    }
   ],
   "source": [
    "\n",
    "rvecs = parta.rvecs\n",
    "tvecs = parta.tvecs\n",
    "r_obj = Rotation.from_rotvec(np.array(rvecs[0]).reshape(1,3))\n",
    "rot_matrix = r_obj.as_matrix()\n",
    "nprvecs = np.array(rvecs)\n",
    "nptvecs = np.array(tvecs)\n",
    "# Creation of rotation matrix from rotation vector\n",
    "xc, xs = cos(radians(nprvecs[0][0][0])), sin(radians(nprvecs[0][0][0]))\n",
    "yc, ys = cos(radians(nprvecs[0][1][0])), sin(radians(nprvecs[0][1][0]))\n",
    "zc, zs = cos(radians(nprvecs[0][2][0])), sin(radians(nprvecs[0][2][0]))\n",
    "# Translated matrix\n",
    "tx = nptvecs[0][0][0]\n",
    "ty = nptvecs[0][1][0]\n",
    "tz = nptvecs[0][2][0]\n",
    "translation_mtx = np.array([[1,0,0,tx],[0,1,0,ty],[0,0,1,tz],[0,0,0,1]])\n",
    "#Creation of  rotation matrices along x,y and z\n",
    "rot_x_mtx = np.array([[1,0,0,0],[0,xc,-xs,0],[0,xs,-xc,0],[0,0,0,1]])\n",
    "rot_y_mtx = np.array([[yc,0,ys,0],[0,1,0,0],[-ys,0,yc,0],[0,0,0,1]])\n",
    "rot_z_mtx = np.array([[zc,-zs,0,0],[zs,zc,0,0],[0,0,1,0],[0,0,0,1]])\n",
    "ext_mtx = np.dot(rot_z_mtx, np.dot(rot_y_mtx, np.dot(rot_x_mtx, translation_mtx)))\n",
    "int_mtx = np.append( np.append(parta.mtx, [[0],[0],[1]], axis=1), [np.array([0,0,0,1])], axis=0)\n",
    "print('Intrinsinc mtx: ', int_mtx)\n",
    "print('Extrinsinc mtx, ', ext_mtx)\n",
    "\n",
    "# Camera Matrix\n",
    "camera_matrix = np.dot(int_mtx, ext_mtx)\n",
    "print(\"Camera mtx: \", camera_matrix)\n",
    "cv.destroyAllWindows()\n",
    "\n",
    "inverse_mat = np.linalg.inv(camera_matrix) \n",
    "project_points = np.array([[5],[10],[30],[1]])\n",
    "real_dim = inverse_mat.dot(project_points)\n",
    "\n",
    "print(\"Here are the dimension\")\n",
    "print(real_dim)\n",
    "print(\"x axis length - \", real_dim[0][0])\n",
    "print(\"y axis length - \", real_dim[1][0])\n",
    "print(\"z axis length - \", real_dim[2][0])"
   ]
  }
 ],
 "metadata": {
  "kernelspec": {
   "display_name": "Python 3 (ipykernel)",
   "language": "python",
   "name": "python3"
  },
  "language_info": {
   "codemirror_mode": {
    "name": "ipython",
    "version": 3
   },
   "file_extension": ".py",
   "mimetype": "text/x-python",
   "name": "python",
   "nbconvert_exporter": "python",
   "pygments_lexer": "ipython3",
   "version": "3.10.6"
  }
 },
 "nbformat": 4,
 "nbformat_minor": 5
}
