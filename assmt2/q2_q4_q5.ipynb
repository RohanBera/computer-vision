{
 "cells": [
  {
   "cell_type": "code",
   "execution_count": 1,
   "id": "54ef42ec",
   "metadata": {},
   "outputs": [],
   "source": [
    "import cv2\n",
    "import depthai as dai\n",
    "import numpy as np"
   ]
  },
  {
   "cell_type": "markdown",
   "id": "5390cb5a",
   "metadata": {},
   "source": [
    "# Q2"
   ]
  },
  {
   "cell_type": "markdown",
   "id": "edd6f9a5",
   "metadata": {},
   "source": [
    "## Image stitching function\n",
    "\n",
    "### Stitches based on SIFT or ORB features\n",
    "\n",
    "Usage : \n",
    "\n",
    "    stitch_2_imgs(img1, img2, feature)\n",
    "    \n",
    "    for stitching using ORB features, use \"ORB\"\n",
    "    for stitching using SIFT features, use \"SIFT\"\n",
    "    "
   ]
  },
  {
   "cell_type": "code",
   "execution_count": 2,
   "id": "51bad989",
   "metadata": {},
   "outputs": [],
   "source": [
    "def stitch_2_imgs(img1, img2, feature) : \n",
    "    img1_bw = cv2.cvtColor(img1, cv2.COLOR_BGR2GRAY)\n",
    "    img2_bw = cv2.cvtColor(img2, cv2.COLOR_BGR2GRAY)\n",
    "    \n",
    "    if feature == \"SIFT\":\n",
    "        feat = cv2.SIFT_create() \n",
    "    elif feature == \"ORB\":\n",
    "        feat = cv2.ORB_create()\n",
    "    else :\n",
    "        print(\"PLease enter correct feature value.\")\n",
    "        return \n",
    "\n",
    "    kp_img1, desc_img1 = feat.detectAndCompute(img1_bw, None) \n",
    "    kp_img2, desc_img2 = feat.detectAndCompute(img2_bw, None) \n",
    "\n",
    "    bf = cv2.BFMatcher()\n",
    "    matches = bf.knnMatch(desc_img2, desc_img1, k=2)\n",
    "\n",
    "    good_points = []\n",
    "    for m, n in matches: \n",
    "        if(m.distance < 0.6*n.distance): \n",
    "            good_points.append(m) \n",
    "\n",
    "    query_pts = np.float32([kp_img2[m.queryIdx] \n",
    "                    .pt for m in good_points]).reshape(-1, 1, 2) \n",
    "\n",
    "    train_pts = np.float32([kp_img1[m.trainIdx] \n",
    "                    .pt for m in good_points]).reshape(-1, 1, 2) \n",
    "\n",
    "    matrix, mask = cv2.findHomography(query_pts, train_pts, cv2.RANSAC, 5.0) \n",
    "\n",
    "    #wraped image\n",
    "    dst = cv2.warpPerspective(img2, matrix, ((img1.shape[1] + img2.shape[1]), img2.shape[0])) \n",
    "\n",
    "    # now paste them together\n",
    "    dst[0:img1.shape[0], 0:img1.shape[1]] = img1\n",
    "\n",
    "    return dst"
   ]
  },
  {
   "cell_type": "markdown",
   "id": "77ba2e9f",
   "metadata": {},
   "source": [
    "## Science centre"
   ]
  },
  {
   "cell_type": "code",
   "execution_count": 3,
   "id": "421cb586",
   "metadata": {},
   "outputs": [],
   "source": [
    "img1 = cv2.imread('image_stitching/sciencecenter1.jpg')\n",
    "img2 = cv2.imread('image_stitching/sciencecenter2.jpg')\n",
    "img3 = cv2.imread('image_stitching/sciencecenter3.jpg')"
   ]
  },
  {
   "cell_type": "code",
   "execution_count": 4,
   "id": "6ef2bcb0",
   "metadata": {},
   "outputs": [
    {
     "data": {
      "text/plain": [
       "True"
      ]
     },
     "execution_count": 4,
     "metadata": {},
     "output_type": "execute_result"
    }
   ],
   "source": [
    "img2_3 = stitch_2_imgs(img2, img3, \"SIFT\")\n",
    "panorm = stitch_2_imgs(img1, img2_3, \"SIFT\")\n",
    "\n",
    "cv2.imwrite(f\"image_stitching/sciencecent_stiched.jpg\", panorm)"
   ]
  },
  {
   "cell_type": "markdown",
   "id": "26ac69d8",
   "metadata": {},
   "source": [
    "## Rialto team"
   ]
  },
  {
   "cell_type": "code",
   "execution_count": 5,
   "id": "9adf5070",
   "metadata": {},
   "outputs": [],
   "source": [
    "img1 = cv2.imread('image_stitching/rialto_team6-1.jpeg')\n",
    "img2 = cv2.imread('image_stitching/rialto_team6-2.jpeg')\n",
    "img3 = cv2.imread('image_stitching/rialto_team6-3.jpeg')"
   ]
  },
  {
   "cell_type": "code",
   "execution_count": 6,
   "id": "abb08a53",
   "metadata": {},
   "outputs": [
    {
     "data": {
      "text/plain": [
       "True"
      ]
     },
     "execution_count": 6,
     "metadata": {},
     "output_type": "execute_result"
    }
   ],
   "source": [
    "img2_3 = stitch_2_imgs(img2, img3, \"SIFT\")\n",
    "panorm = stitch_2_imgs(img1, img2_3, \"SIFT\")\n",
    "\n",
    "cv2.imwrite(f\"image_stitching/rialto_team6_stiched.jpg\", panorm)"
   ]
  },
  {
   "cell_type": "markdown",
   "id": "dae5660d",
   "metadata": {},
   "source": [
    "## Sports arena"
   ]
  },
  {
   "cell_type": "code",
   "execution_count": 7,
   "id": "23794a8d",
   "metadata": {},
   "outputs": [],
   "source": [
    "img1 = cv2.imread('image_stitching/sportsarena1.jpg')\n",
    "img2 = cv2.imread('image_stitching/sportsarena2.jpg')\n",
    "img3 = cv2.imread('image_stitching/sportsarena3.jpg')"
   ]
  },
  {
   "cell_type": "code",
   "execution_count": 8,
   "id": "08d4617e",
   "metadata": {},
   "outputs": [
    {
     "data": {
      "text/plain": [
       "True"
      ]
     },
     "execution_count": 8,
     "metadata": {},
     "output_type": "execute_result"
    }
   ],
   "source": [
    "img2_3 = stitch_2_imgs(img2, img3, \"SIFT\")\n",
    "panorm = stitch_2_imgs(img1, img2_3, \"SIFT\")\n",
    "\n",
    "cv2.imwrite(f\"image_stitching/sportsarena_stiched.jpg\", panorm)"
   ]
  },
  {
   "cell_type": "markdown",
   "id": "69861708",
   "metadata": {},
   "source": [
    "# Q4"
   ]
  },
  {
   "cell_type": "code",
   "execution_count": 19,
   "id": "89e0522b",
   "metadata": {},
   "outputs": [],
   "source": [
    "img1 = cv2.imread('video_frames/16679490776731.png')\n",
    "img2 = cv2.imread('video_frames/16679490737739.png')"
   ]
  },
  {
   "cell_type": "code",
   "execution_count": 20,
   "id": "3d79f2d4",
   "metadata": {},
   "outputs": [
    {
     "data": {
      "text/plain": [
       "True"
      ]
     },
     "execution_count": 20,
     "metadata": {},
     "output_type": "execute_result"
    }
   ],
   "source": [
    "img1_2 = stitch_2_imgs(img1, img2, \"SIFT\")\n",
    "\n",
    "cv2.imwrite(f\"q4_stiched_frames.png\", img1_2)"
   ]
  },
  {
   "cell_type": "markdown",
   "id": "5e2f9cbf",
   "metadata": {},
   "source": [
    "# Q5"
   ]
  },
  {
   "cell_type": "code",
   "execution_count": 21,
   "id": "dab6835d",
   "metadata": {},
   "outputs": [
    {
     "data": {
      "text/plain": [
       "True"
      ]
     },
     "execution_count": 21,
     "metadata": {},
     "output_type": "execute_result"
    }
   ],
   "source": [
    "img1_2 = stitch_2_imgs(img1, img2, \"ORB\")\n",
    "\n",
    "cv2.imwrite(f\"q5_stiched_frames.png\", img1_2)"
   ]
  }
 ],
 "metadata": {
  "kernelspec": {
   "display_name": "Python 3 (ipykernel)",
   "language": "python",
   "name": "python3"
  },
  "language_info": {
   "codemirror_mode": {
    "name": "ipython",
    "version": 3
   },
   "file_extension": ".py",
   "mimetype": "text/x-python",
   "name": "python",
   "nbconvert_exporter": "python",
   "pygments_lexer": "ipython3",
   "version": "3.10.6"
  }
 },
 "nbformat": 4,
 "nbformat_minor": 5
}
