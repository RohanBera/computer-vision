{
 "cells": [
  {
   "cell_type": "code",
   "execution_count": 1,
   "id": "0e6cd14e",
   "metadata": {},
   "outputs": [],
   "source": [
    "import cv2\n",
    "import depthai as dai\n",
    "import numpy as np\n",
    "from copy import deepcopy"
   ]
  },
  {
   "cell_type": "code",
   "execution_count": 9,
   "id": "d6c2f8a0",
   "metadata": {},
   "outputs": [],
   "source": [
    "img = cv2.imread('video_frames/16679490776731.png')\n",
    "img_bw = cv2.cvtColor(img, cv2.COLOR_BGR2GRAY)\n",
    "\n",
    "# initialising to 0\n",
    "intergal_img = [[0 for j in range(len(img_bw[0]))] for i in range(len(img_bw))]\n",
    "\n",
    "# compying values form img array\n",
    "for i in range(len(img_bw)):\n",
    "    for j in range(len(img_bw[0])):\n",
    "        intergal_img[i][j] = int(img_bw[i][j])\n",
    "\n",
    "# calculating the integral img\n",
    "for i in range(1, len(img_bw[0])):\n",
    "    intergal_img[0][i] += intergal_img[0][i-1] \n",
    "\n",
    "for j in range(1, len(img_bw)):\n",
    "    intergal_img[j][0] += intergal_img[j-1][0]\n",
    "    \n",
    "for i in range(1, len(img_bw)):\n",
    "    for j in range(1, len(img_bw[0])):\n",
    "        intergal_img[i][j] = intergal_img[i-1][j] + intergal_img[i][j-1] - intergal_img[i-1][j-1] + img_bw[i][j]\n",
    "        "
   ]
  },
  {
   "cell_type": "code",
   "execution_count": 13,
   "id": "e4a920e7",
   "metadata": {},
   "outputs": [],
   "source": [
    "# saving integral image in file\n",
    "\n",
    "a = np.array(intergal_img)\n",
    "mat = np.matrix(a)\n",
    "\n",
    "with open('integral_matrix.txt','wb') as f:\n",
    "    for line in mat:\n",
    "        np.savetxt(f, line, fmt=\"%d\")"
   ]
  }
 ],
 "metadata": {
  "kernelspec": {
   "display_name": "Python 3 (ipykernel)",
   "language": "python",
   "name": "python3"
  },
  "language_info": {
   "codemirror_mode": {
    "name": "ipython",
    "version": 3
   },
   "file_extension": ".py",
   "mimetype": "text/x-python",
   "name": "python",
   "nbconvert_exporter": "python",
   "pygments_lexer": "ipython3",
   "version": "3.10.6"
  }
 },
 "nbformat": 4,
 "nbformat_minor": 5
}
