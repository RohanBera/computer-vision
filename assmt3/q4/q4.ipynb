{
 "cells": [
  {
   "cell_type": "code",
   "execution_count": 12,
   "id": "0046e5dd",
   "metadata": {},
   "outputs": [],
   "source": [
    "import cv2\n",
    "import numpy as np\n",
    "from pathlib import Path\n",
    "import matplotlib.pyplot as plt"
   ]
  },
  {
   "cell_type": "code",
   "execution_count": 25,
   "id": "568e99bf",
   "metadata": {},
   "outputs": [],
   "source": [
    "# a few images i took with my oakd lite color camera \n",
    "# and cropped to get the obects in frame\n",
    "\n",
    "# total scene\n",
    "img = cv2.imread(\"full_img.jpeg\")\n",
    "cv2.imshow(\"full image\", img)\n",
    "cv2.waitKey(1000)\n",
    "cv2.destroyAllWindows()\n",
    "\n",
    "# objects \n",
    "blu_flower = cv2.imread(\"blu_flower.jpeg\")\n",
    "red_flower = cv2.imread(\"red_flower.jpeg\")\n",
    "\n",
    "cv2.imshow(\"blue flower\", blu_flower)\n",
    "cv2.waitKey(1000)\n",
    "cv2.destroyAllWindows()\n",
    "\n",
    "cv2.imshow(\"red flower\", red_flower)\n",
    "cv2.waitKey(1000)\n",
    "cv2.destroyAllWindows()"
   ]
  },
  {
   "cell_type": "markdown",
   "id": "be46163e",
   "metadata": {},
   "source": [
    "## Feature based Object detection algorithm"
   ]
  },
  {
   "cell_type": "code",
   "execution_count": 35,
   "id": "183de1fb",
   "metadata": {},
   "outputs": [],
   "source": [
    "def object_detection(img, template, output_file=\"\") :\n",
    "    Path(f\"object_detected\").mkdir(parents=True, exist_ok=True)\n",
    "\n",
    "    gray_img = cv2.cvtColor(img, cv2.COLOR_BGR2GRAY)\n",
    "    gray_temp = cv2.cvtColor(template, cv2.COLOR_BGR2GRAY)\n",
    "\n",
    "    # feature based obj detection\n",
    "    ssd = cv2.matchTemplate(gray_img, gray_temp, cv2.TM_SQDIFF_NORMED)\n",
    "    point = np.where(ssd == ssd.min())\n",
    "    y = point[0][0]\n",
    "    x = point[1][0]\n",
    "    w = len(template[0])\n",
    "    l = len(template)\n",
    "\n",
    "    # Draw Rectangle\n",
    "    pm = cv2.rectangle(img, (x, y), (x+w, y+l), (255, 255, 255), 2)\n",
    "\n",
    "    cv2.imshow(\"Pattern Match\", pm) \n",
    "    cv2.waitKey(1000)\n",
    "    cv2.imwrite(\"object_detected/\"+output_file+\".png\", pm)\n",
    "    cv2.destroyAllWindows()  "
   ]
  },
  {
   "cell_type": "code",
   "execution_count": 36,
   "id": "2c290cdb",
   "metadata": {},
   "outputs": [],
   "source": [
    "img = cv2.imread(\"full_img.jpeg\")\n",
    "\n",
    "# blue flower image detection\n",
    "object_detection(img, blu_flower, \"blue_flower\")\n",
    "\n",
    "img = cv2.imread(\"full_img.jpeg\")\n",
    "\n",
    "# red flower image detection\n",
    "object_detection(img, red_flower, \"red_flower\")"
   ]
  },
  {
   "cell_type": "code",
   "execution_count": null,
   "id": "750de6c5",
   "metadata": {},
   "outputs": [],
   "source": []
  }
 ],
 "metadata": {
  "kernelspec": {
   "display_name": "Python 3 (ipykernel)",
   "language": "python",
   "name": "python3"
  },
  "language_info": {
   "codemirror_mode": {
    "name": "ipython",
    "version": 3
   },
   "file_extension": ".py",
   "mimetype": "text/x-python",
   "name": "python",
   "nbconvert_exporter": "python",
   "pygments_lexer": "ipython3",
   "version": "3.10.6"
  }
 },
 "nbformat": 4,
 "nbformat_minor": 5
}
