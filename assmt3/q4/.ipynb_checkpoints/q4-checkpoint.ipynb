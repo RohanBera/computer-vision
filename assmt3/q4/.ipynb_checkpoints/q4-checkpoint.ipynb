{
 "cells": [
  {
   "cell_type": "code",
   "execution_count": 12,
   "id": "0046e5dd",
   "metadata": {},
   "outputs": [],
   "source": [
    "import cv2\n",
    "import numpy as np\n",
    "from pathlib import Path\n",
    "import matplotlib.pyplot as plt"
   ]
  },
  {
   "cell_type": "code",
   "execution_count": 25,
   "id": "e2204028",
   "metadata": {},
   "outputs": [],
   "source": [
    "# a few images i took with my oakd lite color camera \n",
    "# and cropped to get the obects in frame\n",
    "\n",
    "# total scene\n",
    "img = cv2.imread(\"full_img.jpeg\")\n",
    "cv2.imshow(\"full image\", img)\n",
    "cv2.waitKey(1000)\n",
    "cv2.destroyAllWindows()\n",
    "\n",
    "# objects \n",
    "blu_flower = cv2.imread(\"blu_flower.jpeg\")\n",
    "red_flower = cv2.imread(\"red_flower.jpeg\")\n",
    "\n",
    "cv2.imshow(\"blue flower\", blu_flower)\n",
    "cv2.waitKey(1000)\n",
    "cv2.destroyAllWindows()\n",
    "\n",
    "cv2.imshow(\"red flower\", red_flower)\n",
    "cv2.waitKey(1000)\n",
    "cv2.destroyAllWindows()"
   ]
  },
  {
   "cell_type": "code",
   "execution_count": 27,
   "id": "eac9f4af",
   "metadata": {},
   "outputs": [],
   "source": [
    "def object_detection(img, template, output_file=\"\") :\n",
    "    Path(f\"pattern_match\").mkdir(parents=True, exist_ok=True)\n",
    "\n",
    "    gray_img = cv2.cvtColor(img, cv2.COLOR_BGR2GRAY)\n",
    "    gray_temp = cv2.cvtColor(template, cv2.COLOR_BGR2GRAY)\n",
    "\n",
    "    # Create Summed of Squared Differences with patch\n",
    "    ssd = cv2.matchTemplate(gray_img, gray_temp, cv2.TM_SQDIFF_NORMED)\n",
    "\n",
    "    # find min for match with SQDIFF_NORMED\n",
    "    point = np.where(ssd == ssd.min())\n",
    "    y = point[0][0]\n",
    "    x = point[1][0]\n",
    "    w = len(template[0])\n",
    "    l = len(template)\n",
    "\n",
    "    # Draw Rectangle\n",
    "    pm = cv2.rectangle(img, (x, y), (x+w, y+l), (255, 0, 0), 2)\n",
    "\n",
    "    cv2.imshow(\"Pattern Match\", pm) \n",
    "    cv2.waitKey(1000)\n",
    "    cv2.imwrite(\"pattern_match/\"+output_file+\".png\", pm)\n",
    "    cv2.destroyAllWindows()  "
   ]
  },
  {
   "cell_type": "code",
   "execution_count": 28,
   "id": "ce905f27",
   "metadata": {},
   "outputs": [],
   "source": [
    "# blue flower image detection\n",
    "object_detection(img, blu_flower, \"blue_flower\")\n",
    "\n",
    "# red flower image detection\n",
    "object_detection(img, red_flower, \"red_flower\")"
   ]
  },
  {
   "cell_type": "code",
   "execution_count": 21,
   "id": "3c617f61",
   "metadata": {},
   "outputs": [
    {
     "data": {
      "text/plain": [
       "True"
      ]
     },
     "execution_count": 21,
     "metadata": {},
     "output_type": "execute_result"
    }
   ],
   "source": [
    "import cv2 as cv\n",
    "import numpy as np\n",
    "from matplotlib import pyplot as plt\n",
    "\n",
    "img_rgb = cv.imread('full_img.jpeg')\n",
    "img_gray = cv.cvtColor(img_rgb, cv.COLOR_BGR2GRAY)\n",
    "\n",
    "template = cv.imread('blu_flower.jpeg',0)\n",
    "w, h = template.shape[::-1]\n",
    "res = cv.matchTemplate(img_gray,template,cv.TM_CCOEFF_NORMED)\n",
    "threshold = 0.8\n",
    "loc = np.where( res >= threshold)\n",
    "\n",
    "for pt in zip(*loc[::-1]):\n",
    "    cv.rectangle(img_rgb, pt, (pt[0] + w, pt[1] + h), (0,0,255), 2)\n",
    "cv.imwrite('blu_res.png',img_rgb)"
   ]
  },
  {
   "cell_type": "code",
   "execution_count": null,
   "id": "76a266b1",
   "metadata": {},
   "outputs": [],
   "source": []
  }
 ],
 "metadata": {
  "kernelspec": {
   "display_name": "Python 3 (ipykernel)",
   "language": "python",
   "name": "python3"
  },
  "language_info": {
   "codemirror_mode": {
    "name": "ipython",
    "version": 3
   },
   "file_extension": ".py",
   "mimetype": "text/x-python",
   "name": "python",
   "nbconvert_exporter": "python",
   "pygments_lexer": "ipython3",
   "version": "3.10.6"
  }
 },
 "nbformat": 4,
 "nbformat_minor": 5
}
