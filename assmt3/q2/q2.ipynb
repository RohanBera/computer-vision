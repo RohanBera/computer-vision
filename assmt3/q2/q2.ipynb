{
 "cells": [
  {
   "cell_type": "code",
   "execution_count": 10,
   "id": "447a404d",
   "metadata": {},
   "outputs": [],
   "source": [
    "import cv2\n",
    "import glob\n",
    "import numpy as np\n",
    "import matplotlib.pyplot as plt\n",
    "from scipy.signal import fftconvolve,convolve2d\n",
    "import math"
   ]
  },
  {
   "cell_type": "code",
   "execution_count": 11,
   "id": "3be9f2d3",
   "metadata": {},
   "outputs": [],
   "source": [
    "Iref=cv2.imread(r'../video_frames/16679490685421.png',cv2.IMREAD_GRAYSCALE)\n",
    "Inext=cv2.imread(r'../video_frames/16679490692428.png',cv2.IMREAD_GRAYSCALE)\n",
    "Iref=np.array(Iref).astype(np.float32)\n",
    "Inext=np.array(Inext).astype(np.float32)\n",
    "kernel_x = np.array([[-1., 1.], [-1., 1.]])*.25\n",
    "kernel_y = np.array([[-1., -1.], [1., 1.]])*.25\n",
    "kernel_t = np.array([[1., 1.], [1., 1.]])*.25\n",
    "Iref = Iref / 255. # normalize pixels\n",
    "Inext = Inext / 255. # normalize pixels\n",
    "Ix=cv2.filter2D(Iref,-1,kernel=kernel_x)\n",
    "Iy=cv2.filter2D(Iref,-1,kernel=kernel_y)\n",
    "It=cv2.filter2D(Iref,-1,kernel=kernel_t)+cv2.filter2D(Inext,-1,kernel=kernel_x)\n",
    "Ix,Iy,It=np.array(Ix),np.array(Iy),np.array(It)"
   ]
  },
  {
   "cell_type": "code",
   "execution_count": 18,
   "id": "67407280",
   "metadata": {},
   "outputs": [
    {
     "name": "stderr",
     "output_type": "stream",
     "text": [
      "/tmp/ipykernel_1101037/2752613449.py:1: RuntimeWarning: divide by zero encountered in divide\n",
      "  img = np.divide(It,np.sqrt(np.square(Ix)+np.square(Iy)))\n",
      "/tmp/ipykernel_1101037/2752613449.py:1: RuntimeWarning: invalid value encountered in divide\n",
      "  img = np.divide(It,np.sqrt(np.square(Ix)+np.square(Iy)))\n"
     ]
    }
   ],
   "source": [
    "img = np.divide(It,np.sqrt(np.square(Ix)+np.square(Iy)))"
   ]
  },
  {
   "cell_type": "code",
   "execution_count": 19,
   "id": "ad97c19d",
   "metadata": {},
   "outputs": [
    {
     "data": {
      "text/plain": [
       "array([[ 74.16667  ,  73.16667  ,  16.115385 , ...,  48.536274 ,\n",
       "        105.93632  ,  48.79037  ],\n",
       "       [ 74.16667  ,  73.16667  ,  16.115385 , ...,  48.536274 ,\n",
       "        105.93632  ,  48.790367 ],\n",
       "       [ 24.460955 ,  24.675997 ,  25.102293 , ...,  32.68238  ,\n",
       "         55.908546 ,  49.214638 ],\n",
       "       ...,\n",
       "       [ 10.403658 ,  10.741989 ,  11.480155 , ...,   4.925183 ,\n",
       "          5.1714225,  24.160385 ],\n",
       "       [ 21.856031 ,  23.527372 ,  51.47737  , ...,   4.086477 ,\n",
       "          5.8511314,  22.58471  ],\n",
       "       [  8.691817 ,   9.445701 ,  10.244922 , ...,   2.9638305,\n",
       "          3.186619 ,   6.410486 ]], dtype=float32)"
      ]
     },
     "metadata": {},
     "output_type": "display_data"
    }
   ],
   "source": [
    "display(img)"
   ]
  },
  {
   "cell_type": "code",
   "execution_count": 20,
   "id": "f6dd17af",
   "metadata": {},
   "outputs": [],
   "source": [
    "cv2.imshow('registered image', img)\n",
    "cv2.waitKey(1000)\n",
    "\n",
    "cv2.imwrite('registration.png', img)\n",
    "cv2.destroyAllWindows()"
   ]
  },
  {
   "cell_type": "code",
   "execution_count": null,
   "id": "786585d7",
   "metadata": {},
   "outputs": [],
   "source": []
  }
 ],
 "metadata": {
  "kernelspec": {
   "display_name": "Python 3 (ipykernel)",
   "language": "python",
   "name": "python3"
  },
  "language_info": {
   "codemirror_mode": {
    "name": "ipython",
    "version": 3
   },
   "file_extension": ".py",
   "mimetype": "text/x-python",
   "name": "python",
   "nbconvert_exporter": "python",
   "pygments_lexer": "ipython3",
   "version": "3.10.6"
  }
 },
 "nbformat": 4,
 "nbformat_minor": 5
}
